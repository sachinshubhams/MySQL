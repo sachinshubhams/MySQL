{
 "cells": [
  {
   "cell_type": "markdown",
   "metadata": {},
   "source": [
    "## CREATE, ALTER, TRUNCATE, DROP"
   ]
  },
  {
   "cell_type": "markdown",
   "metadata": {},
   "source": [
    "CREATE:\n",
    "    "
   ]
  },
  {
   "cell_type": "raw",
   "metadata": {},
   "source": [
    "CREATE TABLE PETSALE (\n",
    "    ID INTEGER NOT NULL,\n",
    "    PET CHAR(20),\n",
    "    SALEPRICE DECIMAL(6,2),\n",
    "    PROFIT DECIMAL(6,2),\n",
    "    SALEDATE DATE\n",
    "    );\n",
    "    \n",
    "CREATE TABLE PET (\n",
    "    ID INTEGER NOT NULL,\n",
    "    ANIMAL VARCHAR(20),\n",
    "    QUANTITY INTEGER\n",
    "    );\n"
   ]
  },
  {
   "cell_type": "markdown",
   "metadata": {},
   "source": [
    "INSERT"
   ]
  },
  {
   "cell_type": "raw",
   "metadata": {},
   "source": [
    "INSERT INTO PETSALE VALUES\n",
    "    (1,'Cat',450.09,100.47,'2018-05-29'),\n",
    "    (2,'Dog',666.66,150.76,'2018-06-01'),\n",
    "    (3,'Parrot',50.00,8.9,'2018-06-04'),\n",
    "    (4,'Hamster',60.60,12,'2018-06-11'),\n",
    "    (5,'Goldfish',48.48,3.5,'2018-06-14');\n",
    "    \n",
    "INSERT INTO PET VALUES\n",
    "    (1,'Cat',3),\n",
    "    (2,'Dog',4),\n",
    "    (3,'Hamster',2);\n",
    "    "
   ]
  },
  {
   "cell_type": "markdown",
   "metadata": {},
   "source": [
    "ALTER: Add a new QUANTITY column to the PETSALE table and show the altered table."
   ]
  },
  {
   "cell_type": "raw",
   "metadata": {},
   "source": [
    "ALTER TABLE PETSALE\n",
    "ADD COLUMN QUANTITY INTEGER;"
   ]
  },
  {
   "cell_type": "markdown",
   "metadata": {},
   "source": [
    "Now update the newly added QUANTITY column of the PETSALE table with some values and show all the records of the table."
   ]
  },
  {
   "cell_type": "raw",
   "metadata": {},
   "source": [
    "UPDATE PETSALE SET QUANTITY = 9 WHERE ID = 1;\n",
    "UPDATE PETSALE SET QUANTITY = 3 WHERE ID = 2;\n",
    "UPDATE PETSALE SET QUANTITY = 2 WHERE ID = 3;\n",
    "UPDATE PETSALE SET QUANTITY = 6 WHERE ID = 4;\n",
    "UPDATE PETSALE SET QUANTITY = 24 WHERE ID = 5;"
   ]
  },
  {
   "cell_type": "markdown",
   "metadata": {},
   "source": [
    "ALTER using DROP COLUMN"
   ]
  },
  {
   "cell_type": "raw",
   "metadata": {},
   "source": [
    "ALTER TABLE PETSALE\n",
    "DROP COLUMN PROFIT;"
   ]
  },
  {
   "cell_type": "markdown",
   "metadata": {},
   "source": [
    "ALTER using ALTER COLUMN\n"
   ]
  },
  {
   "cell_type": "raw",
   "metadata": {},
   "source": [
    "ALTER TABLE PETSALE\n",
    "ALTER COLUMN PET SET DATA TYPE VARCHAR(20);"
   ]
  },
  {
   "cell_type": "markdown",
   "metadata": {},
   "source": [
    "ALTER using RENAME COLUMN"
   ]
  },
  {
   "cell_type": "raw",
   "metadata": {},
   "source": [
    "ALTER TABLE PETSALE\n",
    "RENAME COLUMN PET TO ANIMAL;"
   ]
  },
  {
   "cell_type": "markdown",
   "metadata": {},
   "source": [
    "TRUNCATE"
   ]
  },
  {
   "cell_type": "raw",
   "metadata": {},
   "source": [
    "TRUNCATE TABLE PET IMMEDIATE;"
   ]
  },
  {
   "cell_type": "markdown",
   "metadata": {},
   "source": [
    "DROP"
   ]
  },
  {
   "cell_type": "raw",
   "metadata": {},
   "source": [
    "DROP TABLE PET;"
   ]
  }
 ],
 "metadata": {
  "kernelspec": {
   "display_name": "Python 3",
   "language": "python",
   "name": "python3"
  },
  "language_info": {
   "codemirror_mode": {
    "name": "ipython",
    "version": 3
   },
   "file_extension": ".py",
   "mimetype": "text/x-python",
   "name": "python",
   "nbconvert_exporter": "python",
   "pygments_lexer": "ipython3",
   "version": "3.8.5"
  }
 },
 "nbformat": 4,
 "nbformat_minor": 4
}
